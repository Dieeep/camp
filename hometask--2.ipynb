{
 "cells": [
  {
   "cell_type": "markdown",
   "metadata": {},
   "source": [
    "Question 1\n",
    "\n",
    "Load the energy data from the file Energy Indicators.xls.\n",
    "It is a list of indicators of energy supply and renewable electricity production from the United Nations for the year 2013.\n",
    "\n",
    "It should be put into a DataFrame with the variable name of \"energy\"\n",
    "\n",
    "Make sure to exclude the footer and header information from the datafile.\n",
    "\n",
    "The first two columns are unneccessary, so you should get rid of them, and you should change the column labels so that the columns are:\n",
    "\n",
    "Convert Energy Supply to gigajoules (there are 1,000,000 gigajoules in a petajoule).\n",
    "\n",
    "For all countries which have missing data (e.g. data with ...) make sure this is reflected as np.NaN values.\n",
    "\n",
    "Rename the following list of countries (for use in later questions):\n",
    "\n",
    "There are also several countries with numbers and/or parenthesis in their name. Be sure to remove these, e.g.:\n",
    "\n",
    "\n",
    "It is a csv containing countries' GDP from 1960 to 2015 from World Bank. Call this DataFrame \"GDP\"\n",
    "\n",
    "Make sure to skip the header, and rename the following list of countries:\n",
    ". Call this DataFrame \"ScimEn\"\n",
    "\n",
    "Join the three datasets: Energy, GDP, and ScimEn into a new dataset (using the intersection of country names). Use only the 10 years (2006-2015) of GDP data and only the top 15 countries by Scimagojr 'Rank' (Rank 1 through 15).\n",
    "\n",
    "The index of this DataFrame should be the name of the country, and the columns should be\n",
    "\n",
    "Function \"answer_one\" should return the resulted DataFrame (20 columns and 15 entries)"
   ]
  },
  {
   "cell_type": "code",
   "execution_count": 3,
   "metadata": {},
   "outputs": [],
   "source": [
    "import pandas as pd\n",
    "import numpy as np\n",
    "\n",
    "def answer_one():\n",
    "    energy=pd.read_excel('Energy Indicators.xls', skiprows=17,skipfooter=38)\n",
    "    energy.drop(energy.columns[[0,1]],axis=1,inplace=True)\n",
    "    energy.columns=['Country', 'Energy Supply', 'Energy Supply per Capita', '% Renewable']\n",
    "    energy.replace('...', np.nan,inplace = True)\n",
    "    energy['Energy Supply'] = energy['Energy Supply']*1000000\n",
    "    energy['Country'].replace({\"Republic of Korea\": \"South Korea\", \"United States of America20\": \"United States\", \"United Kingdom of Great Britain and Northern Ireland19\": \"United Kingdom\",\"China, Hong Kong Special Administrative Region3\": \"Hong Kong\"}, inplace=True)\n",
    "    energy['Country'].replace({'Bolivia (Plurinational State of)':'Bolivia','Switzerland17':'Switzerland'},inplace=True)\n",
    "    energy['Country'].replace({\"Iran (Islamic Republic of)\": \"Iran\", \"France6\": \"France\", \"Italy9\": \"Italy\", \n",
    "                            \"Ukraine18\": \"Ukraine\", \"Spain16\": \"Spain\", \"Serbia15\": \"Serbia\", \"Saudi Arabia14\": \"Saudi Arabia\", \n",
    "                            \"Portugal13\": \"Portugal\", \"Netherlands12\": \"Netherlands\", \"Kuwait11\": \"Kuwait\", \n",
    "                            \"Japan10\": \"Japan\", \"Denmark5\": \"Denmark\",\"China2\": \"China\",\"Australia1\": \"Australia\"}, inplace=True)\n",
    "    pd.set_option('display.max_rows', energy.shape[0]+1)\n",
    "\n",
    "    GDP=pd.read_csv('world_bank.csv', skiprows=4)\n",
    "    GDP['Country Name'].replace({'Korea, Rep.':'South Korea','Iran, Islamic Rep.':'Iran','Hong Kong SAR, China':'Hong Kong'},inplace=True)\n",
    "    GDP.rename(columns={'Country Name':'Country'},inplace=True)\n",
    "    pd.set_option('display.max_rows', GDP.shape[0]+1)\n",
    "    ScimEn=pd.read_excel('scimagojr country rank 1996-2021.xlsx')\n",
    "    ScimEn=ScimEn[0:15]\n",
    "    df=pd.merge(ScimEn, energy , how = 'inner' , left_on = 'Country' , right_on = 'Country')\n",
    "    df_all=pd.merge(df,GDP, how = 'inner' , left_on = 'Country' , right_on = 'Country')\n",
    "    df_all=df_all.set_index('Country')\n",
    "    df_all=df_all[['Rank', 'Documents', 'Citable documents', 'Citations', 'Self-citations', 'Citations per document', 'H index', 'Energy Supply', 'Energy Supply per Capita', '% Renewable', '2006', '2007', '2008', '2009', '2010', '2011', '2012', '2013', '2014', '2015']]\n",
    "    return df_all\n",
    "#answer_one()"
   ]
  },
  {
   "cell_type": "markdown",
   "metadata": {},
   "source": [
    "Question 2\n",
    "\n",
    "What is the average GDP over the last 10 years for each country? (exclude missing values from this calculation."
   ]
  },
  {
   "cell_type": "code",
   "execution_count": 4,
   "metadata": {},
   "outputs": [
    {
     "data": {
      "text/plain": [
       "Country\n",
       "China                 6.927702e+12\n",
       "United States         1.570403e+13\n",
       "India                 1.602352e+12\n",
       "Japan                 5.239642e+12\n",
       "United Kingdom        2.792011e+12\n",
       "Germany               3.523342e+12\n",
       "Russian Federation    1.666746e+12\n",
       "Canada                1.616359e+12\n",
       "Italy                 2.142986e+12\n",
       "South Korea           1.221372e+12\n",
       "France                2.691337e+12\n",
       "Iran                  4.563261e+11\n",
       "Spain                 1.400727e+12\n",
       "Brazil                1.988889e+12\n",
       "Australia             1.207106e+12\n",
       "dtype: float64"
      ]
     },
     "execution_count": 4,
     "metadata": {},
     "output_type": "execute_result"
    }
   ],
   "source": [
    "def answer_two():\n",
    "    Top15=answer_one()\n",
    "    gdp=Top15[['2006', '2007', '2008', '2009', '2010', '2011', '2012', '2013', '2014', '2015']]\n",
    "    avg_gdp=gdp.mean(axis=1)\n",
    "\n",
    "    return avg_gdp\n",
    "answer_two()"
   ]
  },
  {
   "cell_type": "markdown",
   "metadata": {},
   "source": [
    "Question 3\n",
    "\n",
    "By how much had the GDP changed over the 10 year span for the country with the 6th largest average GDP?"
   ]
  },
  {
   "cell_type": "code",
   "execution_count": 8,
   "metadata": {},
   "outputs": [
    {
     "data": {
      "text/plain": [
       "118652421857.7998"
      ]
     },
     "execution_count": 8,
     "metadata": {},
     "output_type": "execute_result"
    }
   ],
   "source": [
    "def answer_three():\n",
    "    Top15=answer_one()\n",
    "    avg=answer_two().sort_values(ascending=False)\n",
    "    country=avg.index[5]\n",
    "    value=Top15.loc[country]['2015']-Top15.loc[country]['2006']\n",
    "    return value\n",
    "answer_three()"
   ]
  },
  {
   "cell_type": "markdown",
   "metadata": {},
   "source": [
    "Question 4\n",
    "\n",
    "Create a new column that is the ratio of Self-Citations to Total Citations. What is the maximum value for this new column, and what country has the highest ratio?"
   ]
  },
  {
   "cell_type": "code",
   "execution_count": 33,
   "metadata": {},
   "outputs": [
    {
     "data": {
      "text/plain": [
       "('China', 0.689186772669207)"
      ]
     },
     "execution_count": 33,
     "metadata": {},
     "output_type": "execute_result"
    }
   ],
   "source": [
    "def answer_four():\n",
    "    Top15=answer_one()\n",
    "    ratio=Top15['Self-citations']/Top15['Citations']\n",
    "    Top15=Top15.assign(Ratio=ratio)\n",
    "    ans=ratio.idxmax()\n",
    "    return ans ,ratio.loc[ans]\n",
    "answer_four()"
   ]
  },
  {
   "cell_type": "markdown",
   "metadata": {},
   "source": [
    "\n",
    "Question 5\n",
    "\n",
    "Create a column that estimates the population using Energy Supply and Energy Supply per capita. What is the third most populous country according to this estimate?"
   ]
  },
  {
   "cell_type": "code",
   "execution_count": 10,
   "metadata": {},
   "outputs": [
    {
     "data": {
      "text/plain": [
       "'United States'"
      ]
     },
     "execution_count": 10,
     "metadata": {},
     "output_type": "execute_result"
    }
   ],
   "source": [
    "def answer_five():\n",
    "    Top15=answer_one()\n",
    "    population=Top15['Energy Supply']/Top15['Energy Supply per Capita']\n",
    "    Top15=Top15.assign(Population=population)\n",
    "    ans_2=population.sort_values(ascending=False)\n",
    "    ans_2=ans_2.index[2]\n",
    "\n",
    "    return ans_2\n",
    "answer_five()"
   ]
  },
  {
   "cell_type": "markdown",
   "metadata": {},
   "source": [
    "Question 6\n",
    "\n",
    "Create a column that estimates the number of citable documents per person. What is the correlation between the number of citable documents per capita and the energy supply per capita? Use the .corr() method, (Pearson's correlation)."
   ]
  },
  {
   "cell_type": "code",
   "execution_count": 14,
   "metadata": {},
   "outputs": [
    {
     "data": {
      "text/plain": [
       "0.7272331912434825"
      ]
     },
     "execution_count": 14,
     "metadata": {},
     "output_type": "execute_result"
    }
   ],
   "source": [
    "def answer_six():\n",
    "    Top15=answer_one()\n",
    "    number=Top15['Citable documents']/(Top15['Energy Supply']/Top15['Energy Supply per Capita'])\n",
    "    Top15=Top15.assign(Number=number)\n",
    "    ans_3=number.corr(Top15['Energy Supply per Capita'])\n",
    "    return ans_3\n",
    "answer_six()"
   ]
  },
  {
   "cell_type": "markdown",
   "metadata": {},
   "source": [
    "Question 7\n",
    "\n",
    "Use the following dictionary to group the Countries by Continent, then create a dateframe that displays the sample size (the number of countries in each continent bin), and the sum, mean, and std deviation for the estimated population of each country."
   ]
  },
  {
   "cell_type": "code",
   "execution_count": 16,
   "metadata": {},
   "outputs": [
    {
     "ename": "IndentationError",
     "evalue": "expected an indented block (291603856.py, line 22)",
     "output_type": "error",
     "traceback": [
      "\u001b[1;36m  File \u001b[1;32m\"C:\\Users\\PC\\AppData\\Local\\Temp\\ipykernel_3448\\291603856.py\"\u001b[1;36m, line \u001b[1;32m22\u001b[0m\n\u001b[1;33m    Top15['Continent']=Top15['Country'].replace(ContinentDict)\u001b[0m\n\u001b[1;37m    ^\u001b[0m\n\u001b[1;31mIndentationError\u001b[0m\u001b[1;31m:\u001b[0m expected an indented block\n"
     ]
    }
   ],
   "source": [
    "def answer_seven():\n",
    "    Top15=answer_one()\n",
    "    ContinentDict  = {'China':'Asia', \n",
    "                  'United States':'North America', \n",
    "                  'Japan':'Asia', \n",
    "                  'United Kingdom':'Europe', \n",
    "                  'Russian Federation':'Europe', \n",
    "                  'Canada':'North America', \n",
    "                  'Germany':'Europe', \n",
    "                  'India':'Asia',\n",
    "                  'France':'Europe', \n",
    "                  'South Korea':'Asia', \n",
    "                  'Italy':'Europe', \n",
    "                  'Spain':'Europe', \n",
    "                  'Iran':'Asia',\n",
    "                  'Australia':'Australia', \n",
    "                  'Brazil':'South America'}\n",
    "    Top15['Population']=(Top15['Energy Supply']/Top15['Energy Supply per Capita'])\n",
    "    Top15=Top15.reset_index()\n",
    "    Top15['Continent']=Top15['Country']\n",
    "    for country in Top15['Country']:\n",
    "    Top15['Continent']=Top15['Country'].replace(ContinentDict)\n",
    "    dff=Top15.set_index('Continent').groupby(level=0)['Population'].agg({'size':np.size,'sum':np.sum,'mean':np.mean,'std':np.std})\n",
    "    ans_4=dff[['size', 'sum', 'mean', 'std']]\n",
    "    return dff\n",
    "answer_seven()"
   ]
  }
 ],
 "metadata": {
  "kernelspec": {
   "display_name": "Python 3.9.13 ('base')",
   "language": "python",
   "name": "python3"
  },
  "language_info": {
   "codemirror_mode": {
    "name": "ipython",
    "version": 3
   },
   "file_extension": ".py",
   "mimetype": "text/x-python",
   "name": "python",
   "nbconvert_exporter": "python",
   "pygments_lexer": "ipython3",
   "version": "3.9.13"
  },
  "orig_nbformat": 4,
  "vscode": {
   "interpreter": {
    "hash": "1cca9558bc5ad879ec93cc030b157d75f18267527c60932cecaace349eef54dd"
   }
  }
 },
 "nbformat": 4,
 "nbformat_minor": 2
}
